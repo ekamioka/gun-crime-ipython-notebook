{
 "metadata": {
  "name": ""
 },
 "nbformat": 3,
 "nbformat_minor": 0,
 "worksheets": [
  {
   "cells": [
    {
     "cell_type": "heading",
     "level": 1,
     "metadata": {},
     "source": [
      "Some gun violence analysis with Wikipedia data"
     ]
    },
    {
     "cell_type": "markdown",
     "metadata": {},
     "source": [
      "As [requested by John Stokes](https://twitter.com/jonst0kes/status/282330530412888064),\n",
      "here are per-capita numbers for gun-related homicides,\n",
      "relating to GDP and total homicides,\n",
      "so the situation in the United States can be put in context relative to other nations."
     ]
    },
    {
     "cell_type": "markdown",
     "metadata": {},
     "source": [
      "main data source is UNODC (via Wikipedia [here](http://en.wikipedia.org/wiki/List_of_countries_by_intentional_homicide_rate)\n",
      "and [here](http://en.wikipedia.org/wiki/List_of_countries_by_firearm-related_death_rate)).\n",
      "\n",
      "GDP data from World Bank, again [via Wikipedia](http://en.wikipedia.org/wiki/List_of_countries_by_GDP_(PPP)_per_capita).\n",
      "\n",
      "If the numbers on Wikipedia are inaccurate, or their relationship is not sound\n",
      "(e.g. numbers taken from different years, during which significant change occured)\n",
      "then obviously None of this analysis is valid.\n",
      "\n",
      "To summarize the data,\n",
      "every possible way you look at it the US is lousy at preventing gun violence.\n",
      "Even when compared to significantly more violent places,\n",
      "gun violence in the US is a serious problem,\n",
      "and when compared to similarly wealthy places,\n",
      "the US is an outstanding disaster."
     ]
    },
    {
     "cell_type": "markdown",
     "metadata": {},
     "source": [
      "**UPDATE:** the relationship of the gun data and totals does not seem to be valid.\n",
      "[FBI data](http://www2.fbi.gov/ucr/cius2009/offenses/violent_crime/index.html) suggests that\n",
      "the relative contribution of guns to homicides in the US is 47%,\n",
      "but relating these two data sources gives 80%.\n",
      "Internal comparisons should still be fine, but 'fraction' analysis has been stricken."
     ]
    },
    {
     "cell_type": "code",
     "collapsed": false,
     "input": [
      "#%load_ext retina\n",
      "%pylab inline"
     ],
     "language": "python",
     "metadata": {},
     "outputs": [
      {
       "output_type": "stream",
       "stream": "stdout",
       "text": [
        "Populating the interactive namespace from numpy and matplotlib\n"
       ]
      }
     ],
     "prompt_number": 1
    },
    {
     "cell_type": "code",
     "collapsed": false,
     "input": [
      "from IPython.display import display\n",
      "import pandas\n",
      "pandas.set_option('display.notebook_repr_html', True)\n",
      "pandas.set_option('display.precision', 2)"
     ],
     "language": "python",
     "metadata": {},
     "outputs": [],
     "prompt_number": 2
    },
    {
     "cell_type": "markdown",
     "metadata": {},
     "source": [
      "Some utility functions for display"
     ]
    },
    {
     "cell_type": "code",
     "collapsed": false,
     "input": [
      "def plot_percent(df, limit=10):\n",
      "    df['Gun Percent'][:limit].plot()\n",
      "    plt.ylim(0,100)\n",
      "    plt.title(\"% Gun Homicide\")\n",
      "    plt.show()\n"
     ],
     "language": "python",
     "metadata": {},
     "outputs": [],
     "prompt_number": 3
    },
    {
     "cell_type": "code",
     "collapsed": false,
     "input": [
      "def plot_percapita(df, limit=10):\n",
      "    df = df.ix[:,['Homicides', 'Gun Homicides']][:limit]\n",
      "    df['Total Homicides'] = df['Homicides'] - df['Gun Homicides']\n",
      "    del df['Homicides']\n",
      "    df.plot(kind='bar', stacked=True, sort_columns=True)\n",
      "    plt.ylabel(\"per 100k\")\n",
      "    plt.show()\n"
     ],
     "language": "python",
     "metadata": {},
     "outputs": [],
     "prompt_number": 4
    },
    {
     "cell_type": "code",
     "collapsed": false,
     "input": [
      "def display_relevant(df, limit=10):\n",
      "    display(df.ix[:,['Homicides', 'Gun Homicides', 'Gun Data Source']][:limit])"
     ],
     "language": "python",
     "metadata": {},
     "outputs": [],
     "prompt_number": 5
    },
    {
     "cell_type": "markdown",
     "metadata": {},
     "source": [
      "Load the data"
     ]
    },
    {
     "cell_type": "code",
     "collapsed": false,
     "input": [
      "totals = pandas.read_csv('totals.csv', ';', index_col=0)\n",
      "guns = pandas.read_csv('guns.csv', ';', index_col=0)\n",
      "gdp = pandas.read_csv('gdp.csv', ';', index_col=0)\n",
      "data = totals.join(guns).join(gdp)\n",
      "data['Gun Percent'] = 100 * data['Gun Homicides'] / data['Homicides']\n",
      "del data['Unintentional'],data['Undetermined'],data['Gun Suicides']\n",
      "data = data.dropna()"
     ],
     "language": "python",
     "metadata": {},
     "outputs": [],
     "prompt_number": 22
    },
    {
     "cell_type": "markdown",
     "metadata": {},
     "source": [
      "Of all sampled countries (Found data for 68 countries),\n",
      "the US is in the top 15 in Gun Homicides per capita.\n",
      "\n",
      "Numbers are per 100k."
     ]
    },
    {
     "cell_type": "code",
     "collapsed": false,
     "input": [
      "data = data.sort(\"Gun Homicides\", ascending=False)\n",
      "display_relevant(data, 15)"
     ],
     "language": "python",
     "metadata": {},
     "outputs": [
      {
       "html": [
        "<div style=\"max-height:1000px;max-width:1500px;overflow:auto;\">\n",
        "<table border=\"1\" class=\"dataframe\">\n",
        "  <thead>\n",
        "    <tr style=\"text-align: right;\">\n",
        "      <th></th>\n",
        "      <th>Homicides</th>\n",
        "      <th>Gun Homicides</th>\n",
        "      <th>Gun Data Source</th>\n",
        "    </tr>\n",
        "    <tr>\n",
        "      <th>Country</th>\n",
        "      <th></th>\n",
        "      <th></th>\n",
        "      <th></th>\n",
        "    </tr>\n",
        "  </thead>\n",
        "  <tbody>\n",
        "    <tr>\n",
        "      <th>Venezuela</th>\n",
        "      <td> 50.9</td>\n",
        "      <td> 39.0</td>\n",
        "      <td>     Guns in Venezuela[70]</td>\n",
        "    </tr>\n",
        "    <tr>\n",
        "      <th>Colombia</th>\n",
        "      <td> 28.1</td>\n",
        "      <td> 27.1</td>\n",
        "      <td>      Guns in Colombia[12]</td>\n",
        "    </tr>\n",
        "    <tr>\n",
        "      <th>Brazil</th>\n",
        "      <td> 19.0</td>\n",
        "      <td> 18.1</td>\n",
        "      <td>         Guns in Brazil[8]</td>\n",
        "    </tr>\n",
        "    <tr>\n",
        "      <th>South Africa</th>\n",
        "      <td> 21.5</td>\n",
        "      <td> 17.0</td>\n",
        "      <td>  Guns in South Africa[59]</td>\n",
        "    </tr>\n",
        "    <tr>\n",
        "      <th>Panama</th>\n",
        "      <td> 17.6</td>\n",
        "      <td> 16.1</td>\n",
        "      <td>        Guns in Panama[47]</td>\n",
        "    </tr>\n",
        "    <tr>\n",
        "      <th>Mexico</th>\n",
        "      <td> 11.2</td>\n",
        "      <td> 10.0</td>\n",
        "      <td>        Guns in Mexico[40]</td>\n",
        "    </tr>\n",
        "    <tr>\n",
        "      <th>Paraguay</th>\n",
        "      <td>  8.2</td>\n",
        "      <td>  7.3</td>\n",
        "      <td>      Guns in Paraguay[48]</td>\n",
        "    </tr>\n",
        "    <tr>\n",
        "      <th>Nicaragua</th>\n",
        "      <td>  7.3</td>\n",
        "      <td>  5.9</td>\n",
        "      <td>     Guns in Nicaragua[45]</td>\n",
        "    </tr>\n",
        "    <tr>\n",
        "      <th>Costa Rica</th>\n",
        "      <td>  6.3</td>\n",
        "      <td>  4.6</td>\n",
        "      <td>    Guns in Costa Rica[13]</td>\n",
        "    </tr>\n",
        "    <tr>\n",
        "      <th>United States</th>\n",
        "      <td> 10.6</td>\n",
        "      <td>  3.5</td>\n",
        "      <td> Guns in United States[68]</td>\n",
        "    </tr>\n",
        "    <tr>\n",
        "      <th>Uruguay</th>\n",
        "      <td> 14.0</td>\n",
        "      <td>  3.4</td>\n",
        "      <td>       Guns in Uruguay[69]</td>\n",
        "    </tr>\n",
        "    <tr>\n",
        "      <th>Peru</th>\n",
        "      <td>  3.7</td>\n",
        "      <td>  2.6</td>\n",
        "      <td>          Guns in Peru[49]</td>\n",
        "    </tr>\n",
        "    <tr>\n",
        "      <th>Chile</th>\n",
        "      <td>  3.7</td>\n",
        "      <td>  2.2</td>\n",
        "      <td>         Guns in Chile[11]</td>\n",
        "    </tr>\n",
        "    <tr>\n",
        "      <th>Croatia</th>\n",
        "      <td>  3.5</td>\n",
        "      <td>  1.1</td>\n",
        "      <td>       Guns in Croatia[14]</td>\n",
        "    </tr>\n",
        "    <tr>\n",
        "      <th>Macedonia</th>\n",
        "      <td>  1.9</td>\n",
        "      <td>  1.1</td>\n",
        "      <td>     Guns in Macedonia[39]</td>\n",
        "    </tr>\n",
        "  </tbody>\n",
        "</table>\n",
        "<p>15 rows \u00d7 3 columns</p>\n",
        "</div>"
       ],
       "metadata": {},
       "output_type": "display_data",
       "text": [
        "               Homicides  Gun Homicides            Gun Data Source\n",
        "Country                                                           \n",
        "Venezuela           50.9           39.0      Guns in Venezuela[70]\n",
        "Colombia            28.1           27.1       Guns in Colombia[12]\n",
        "Brazil              19.0           18.1          Guns in Brazil[8]\n",
        "South Africa        21.5           17.0   Guns in South Africa[59]\n",
        "Panama              17.6           16.1         Guns in Panama[47]\n",
        "Mexico              11.2           10.0         Guns in Mexico[40]\n",
        "Paraguay             8.2            7.3       Guns in Paraguay[48]\n",
        "Nicaragua            7.3            5.9      Guns in Nicaragua[45]\n",
        "Costa Rica           6.3            4.6     Guns in Costa Rica[13]\n",
        "United States       10.6            3.5  Guns in United States[68]\n",
        "Uruguay             14.0            3.4        Guns in Uruguay[69]\n",
        "Peru                 3.7            2.6           Guns in Peru[49]\n",
        "Chile                3.7            2.2          Guns in Chile[11]\n",
        "Croatia              3.5            1.1        Guns in Croatia[14]\n",
        "Macedonia            1.9            1.1      Guns in Macedonia[39]\n",
        "\n",
        "[15 rows x 3 columns]"
       ]
      }
     ],
     "prompt_number": 23
    },
    {
     "cell_type": "markdown",
     "metadata": {},
     "source": [
      "Take top 30 Countries by GDP"
     ]
    },
    {
     "cell_type": "code",
     "collapsed": false,
     "input": [
      "top = data.sort('GDP')[-30:]"
     ],
     "language": "python",
     "metadata": {},
     "outputs": [],
     "prompt_number": 25
    },
    {
     "cell_type": "markdown",
     "metadata": {},
     "source": [
      "and rank them by Gun Homicides per capita:"
     ]
    },
    {
     "cell_type": "code",
     "collapsed": false,
     "input": [
      "top_by_guns = top.sort(\"Gun Homicides\", ascending=False)\n",
      "display_relevant(top_by_guns, 5)\n",
      "plot_percapita(top_by_guns, 10)"
     ],
     "language": "python",
     "metadata": {},
     "outputs": [
      {
       "html": [
        "<div style=\"max-height:1000px;max-width:1500px;overflow:auto;\">\n",
        "<table border=\"1\" class=\"dataframe\">\n",
        "  <thead>\n",
        "    <tr style=\"text-align: right;\">\n",
        "      <th></th>\n",
        "      <th>Homicides</th>\n",
        "      <th>Gun Homicides</th>\n",
        "      <th>Gun Data Source</th>\n",
        "    </tr>\n",
        "    <tr>\n",
        "      <th>Country</th>\n",
        "      <th></th>\n",
        "      <th></th>\n",
        "      <th></th>\n",
        "    </tr>\n",
        "  </thead>\n",
        "  <tbody>\n",
        "    <tr>\n",
        "      <th>Venezuela</th>\n",
        "      <td> 50.9</td>\n",
        "      <td> 39.0</td>\n",
        "      <td>    Guns in Venezuela[70]</td>\n",
        "    </tr>\n",
        "    <tr>\n",
        "      <th>Colombia</th>\n",
        "      <td> 28.1</td>\n",
        "      <td> 27.1</td>\n",
        "      <td>     Guns in Colombia[12]</td>\n",
        "    </tr>\n",
        "    <tr>\n",
        "      <th>Brazil</th>\n",
        "      <td> 19.0</td>\n",
        "      <td> 18.1</td>\n",
        "      <td>        Guns in Brazil[8]</td>\n",
        "    </tr>\n",
        "    <tr>\n",
        "      <th>South Africa</th>\n",
        "      <td> 21.5</td>\n",
        "      <td> 17.0</td>\n",
        "      <td> Guns in South Africa[59]</td>\n",
        "    </tr>\n",
        "    <tr>\n",
        "      <th>Panama</th>\n",
        "      <td> 17.6</td>\n",
        "      <td> 16.1</td>\n",
        "      <td>       Guns in Panama[47]</td>\n",
        "    </tr>\n",
        "  </tbody>\n",
        "</table>\n",
        "<p>5 rows \u00d7 3 columns</p>\n",
        "</div>"
       ],
       "metadata": {},
       "output_type": "display_data",
       "text": [
        "              Homicides  Gun Homicides           Gun Data Source\n",
        "Country                                                         \n",
        "Venezuela          50.9           39.0     Guns in Venezuela[70]\n",
        "Colombia           28.1           27.1      Guns in Colombia[12]\n",
        "Brazil             19.0           18.1         Guns in Brazil[8]\n",
        "South Africa       21.5           17.0  Guns in South Africa[59]\n",
        "Panama             17.6           16.1        Guns in Panama[47]\n",
        "\n",
        "[5 rows x 3 columns]"
       ]
      },
      {
       "metadata": {},
       "output_type": "display_data",
       "png": "[encoded data removed]",
       "text": [
        "<matplotlib.figure.Figure at 0x7fe1a8d376d0>"
       ]
      }
     ],
     "prompt_number": 26
    },
    {
     "cell_type": "markdown",
     "metadata": {},
     "source": [
      "**NOTE:** these bar graphs should not be interpreted as fractions of a total,\n",
      "as the two data sources do not appear to be comparable.\n",
      "But the red and blue bar graphs should still be internally comparable."
     ]
    },
    {
     "cell_type": "markdown",
     "metadata": {},
     "source": [
      "The US is easily #1 of 30 wealthiest countries in Gun Homicides per capita,\n",
      "by a factor of 4:1"
     ]
    },
    {
     "cell_type": "markdown",
     "metadata": {},
     "source": [
      "Adding USA, Canada, and Mexico to all of Europe,\n",
      "USA is a strong #2 behind Mexico in total gun homicides per-capita"
     ]
    },
    {
     "cell_type": "code",
     "collapsed": false,
     "input": [
      "index = (data['Region'] == 'Europe') + \\\n",
      "        (data.index == 'United States') + \\\n",
      "        (data.index == 'Canada') + \\\n",
      "        (data.index == 'Mexico')\n",
      "selected = data[index]\n",
      "\n",
      "print \"By Total Gun Homicides\"\n",
      "sys.stdout.flush()\n",
      "\n",
      "by_guns = selected.sort(\"Gun Homicides\", ascending=False)\n",
      "#by_guns['Gun Homicides'].plot(kind='bar')\n",
      "plot_percapita(by_guns, limit=25)\n",
      "display_relevant(selected, limit=None)\n"
     ],
     "language": "python",
     "metadata": {},
     "outputs": [
      {
       "output_type": "stream",
       "stream": "stdout",
       "text": [
        "By Total Gun Homicides\n"
       ]
      },
      {
       "metadata": {},
       "output_type": "display_data",
       "png": "[encoded data removed]",
       "text": [
        "<matplotlib.figure.Figure at 0x7fe1a8ca25d0>"
       ]
      },
      {
       "html": [
        "<div style=\"max-height:1000px;max-width:1500px;overflow:auto;\">\n",
        "<table border=\"1\" class=\"dataframe\">\n",
        "  <thead>\n",
        "    <tr style=\"text-align: right;\">\n",
        "      <th></th>\n",
        "      <th>Homicides</th>\n",
        "      <th>Gun Homicides</th>\n",
        "      <th>Gun Data Source</th>\n",
        "    </tr>\n",
        "    <tr>\n",
        "      <th>Country</th>\n",
        "      <th></th>\n",
        "      <th></th>\n",
        "      <th></th>\n",
        "    </tr>\n",
        "  </thead>\n",
        "  <tbody>\n",
        "    <tr>\n",
        "      <th>Mexico</th>\n",
        "      <td> 11.2</td>\n",
        "      <td> 10.0</td>\n",
        "      <td>             Guns in Mexico[40]</td>\n",
        "    </tr>\n",
        "    <tr>\n",
        "      <th>United States</th>\n",
        "      <td> 10.6</td>\n",
        "      <td>  3.5</td>\n",
        "      <td>      Guns in United States[68]</td>\n",
        "    </tr>\n",
        "    <tr>\n",
        "      <th>Croatia</th>\n",
        "      <td>  3.5</td>\n",
        "      <td>  1.1</td>\n",
        "      <td>            Guns in Croatia[14]</td>\n",
        "    </tr>\n",
        "    <tr>\n",
        "      <th>Macedonia</th>\n",
        "      <td>  1.9</td>\n",
        "      <td>  1.1</td>\n",
        "      <td>          Guns in Macedonia[39]</td>\n",
        "    </tr>\n",
        "    <tr>\n",
        "      <th>Serbia</th>\n",
        "      <td>  3.9</td>\n",
        "      <td>  0.6</td>\n",
        "      <td>             Guns in Serbia[55]</td>\n",
        "    </tr>\n",
        "    <tr>\n",
        "      <th>Luxembourg</th>\n",
        "      <td>  2.0</td>\n",
        "      <td>  0.6</td>\n",
        "      <td>         Guns in Luxembourg[38]</td>\n",
        "    </tr>\n",
        "    <tr>\n",
        "      <th>Greece</th>\n",
        "      <td>  1.6</td>\n",
        "      <td>  0.6</td>\n",
        "      <td>             Guns in Greece[24]</td>\n",
        "    </tr>\n",
        "    <tr>\n",
        "      <th>Canada</th>\n",
        "      <td>  2.2</td>\n",
        "      <td>  0.5</td>\n",
        "      <td>          Statistics Canada[10]</td>\n",
        "    </tr>\n",
        "    <tr>\n",
        "      <th>Portugal</th>\n",
        "      <td>  1.8</td>\n",
        "      <td>  0.5</td>\n",
        "      <td>           Guns in Portugal[52]</td>\n",
        "    </tr>\n",
        "    <tr>\n",
        "      <th>Moldova</th>\n",
        "      <td>  1.0</td>\n",
        "      <td>  0.5</td>\n",
        "      <td>            Guns in Moldova[41]</td>\n",
        "    </tr>\n",
        "    <tr>\n",
        "      <th>Italy</th>\n",
        "      <td>  1.3</td>\n",
        "      <td>  0.4</td>\n",
        "      <td>              Guns in Italy[32]</td>\n",
        "    </tr>\n",
        "    <tr>\n",
        "      <th>Estonia</th>\n",
        "      <td>  2.5</td>\n",
        "      <td>  0.3</td>\n",
        "      <td>            Guns in Estonia[19]</td>\n",
        "    </tr>\n",
        "    <tr>\n",
        "      <th>Belgium</th>\n",
        "      <td>  2.4</td>\n",
        "      <td>  0.3</td>\n",
        "      <td>             Guns in Belgium[7]</td>\n",
        "    </tr>\n",
        "    <tr>\n",
        "      <th>Finland</th>\n",
        "      <td>  3.6</td>\n",
        "      <td>  0.3</td>\n",
        "      <td>            Guns in Finland[20]</td>\n",
        "    </tr>\n",
        "    <tr>\n",
        "      <th>Bulgaria</th>\n",
        "      <td>  2.4</td>\n",
        "      <td>  0.2</td>\n",
        "      <td>            Guns in Bulgaria[9]</td>\n",
        "    </tr>\n",
        "    <tr>\n",
        "      <th>France</th>\n",
        "      <td>  3.0</td>\n",
        "      <td>  0.2</td>\n",
        "      <td>             Guns in France[21]</td>\n",
        "    </tr>\n",
        "    <tr>\n",
        "      <th>Denmark</th>\n",
        "      <td>  1.3</td>\n",
        "      <td>  0.2</td>\n",
        "      <td>            Guns in Denmark[17]</td>\n",
        "    </tr>\n",
        "    <tr>\n",
        "      <th>Netherlands</th>\n",
        "      <td>  0.5</td>\n",
        "      <td>  0.2</td>\n",
        "      <td>        Guns in Netherlands[43]</td>\n",
        "    </tr>\n",
        "    <tr>\n",
        "      <th>Germany</th>\n",
        "      <td>  1.2</td>\n",
        "      <td>  0.2</td>\n",
        "      <td>            Guns in Germany[23]</td>\n",
        "    </tr>\n",
        "    <tr>\n",
        "      <th>Sweden</th>\n",
        "      <td>  1.5</td>\n",
        "      <td>  0.2</td>\n",
        "      <td>             Guns in Sweden[63]</td>\n",
        "    </tr>\n",
        "    <tr>\n",
        "      <th>Latvia</th>\n",
        "      <td>  1.4</td>\n",
        "      <td>  0.2</td>\n",
        "      <td>             Guns in Latvia[37]</td>\n",
        "    </tr>\n",
        "    <tr>\n",
        "      <th>Slovakia</th>\n",
        "      <td>  1.8</td>\n",
        "      <td>  0.2</td>\n",
        "      <td>           Guns in Slovakia[57]</td>\n",
        "    </tr>\n",
        "    <tr>\n",
        "      <th>Austria</th>\n",
        "      <td>  3.0</td>\n",
        "      <td>  0.2</td>\n",
        "      <td>             Guns in Austria[3]</td>\n",
        "    </tr>\n",
        "    <tr>\n",
        "      <th>Spain</th>\n",
        "      <td>  0.6</td>\n",
        "      <td>  0.1</td>\n",
        "      <td>              Guns in Spain[61]</td>\n",
        "    </tr>\n",
        "    <tr>\n",
        "      <th>Hungary</th>\n",
        "      <td>  0.9</td>\n",
        "      <td>  0.1</td>\n",
        "      <td>            Guns in Hungary[28]</td>\n",
        "    </tr>\n",
        "    <tr>\n",
        "      <th>Czech Republic</th>\n",
        "      <td>  1.8</td>\n",
        "      <td>  0.1</td>\n",
        "      <td>     Guns in Czech Republic[16]</td>\n",
        "    </tr>\n",
        "    <tr>\n",
        "      <th>United Kingdom</th>\n",
        "      <td>  0.3</td>\n",
        "      <td>  0.1</td>\n",
        "      <td> Guns in the United Kingdom[67]</td>\n",
        "    </tr>\n",
        "    <tr>\n",
        "      <th>Slovenia</th>\n",
        "      <td>  2.5</td>\n",
        "      <td>  0.1</td>\n",
        "      <td>           Guns in Slovenia[58]</td>\n",
        "    </tr>\n",
        "    <tr>\n",
        "      <th>Norway</th>\n",
        "      <td>  1.8</td>\n",
        "      <td>  0.0</td>\n",
        "      <td>             Guns in Norway[46]</td>\n",
        "    </tr>\n",
        "    <tr>\n",
        "      <th>Romania</th>\n",
        "      <td>  0.2</td>\n",
        "      <td>  0.0</td>\n",
        "      <td>            Guns in Romania[54]</td>\n",
        "    </tr>\n",
        "    <tr>\n",
        "      <th>Poland</th>\n",
        "      <td>  0.2</td>\n",
        "      <td>  0.0</td>\n",
        "      <td>             Guns in Poland[51]</td>\n",
        "    </tr>\n",
        "  </tbody>\n",
        "</table>\n",
        "<p>31 rows \u00d7 3 columns</p>\n",
        "</div>"
       ],
       "metadata": {},
       "output_type": "display_data",
       "text": [
        "                Homicides  Gun Homicides                 Gun Data Source\n",
        "Country                                                                 \n",
        "Mexico               11.2           10.0              Guns in Mexico[40]\n",
        "United States        10.6            3.5       Guns in United States[68]\n",
        "Croatia               3.5            1.1             Guns in Croatia[14]\n",
        "Macedonia             1.9            1.1           Guns in Macedonia[39]\n",
        "Serbia                3.9            0.6              Guns in Serbia[55]\n",
        "Luxembourg            2.0            0.6          Guns in Luxembourg[38]\n",
        "Greece                1.6            0.6              Guns in Greece[24]\n",
        "Canada                2.2            0.5           Statistics Canada[10]\n",
        "Portugal              1.8            0.5            Guns in Portugal[52]\n",
        "Moldova               1.0            0.5             Guns in Moldova[41]\n",
        "Italy                 1.3            0.4               Guns in Italy[32]\n",
        "Estonia               2.5            0.3             Guns in Estonia[19]\n",
        "Belgium               2.4            0.3              Guns in Belgium[7]\n",
        "Finland               3.6            0.3             Guns in Finland[20]\n",
        "Bulgaria              2.4            0.2             Guns in Bulgaria[9]\n",
        "France                3.0            0.2              Guns in France[21]\n",
        "Denmark               1.3            0.2             Guns in Denmark[17]\n",
        "Netherlands           0.5            0.2         Guns in Netherlands[43]\n",
        "Germany               1.2            0.2             Guns in Germany[23]\n",
        "Sweden                1.5            0.2              Guns in Sweden[63]\n",
        "Latvia                1.4            0.2              Guns in Latvia[37]\n",
        "Slovakia              1.8            0.2            Guns in Slovakia[57]\n",
        "Austria               3.0            0.2              Guns in Austria[3]\n",
        "Spain                 0.6            0.1               Guns in Spain[61]\n",
        "Hungary               0.9            0.1             Guns in Hungary[28]\n",
        "Czech Republic        1.8            0.1      Guns in Czech Republic[16]\n",
        "United Kingdom        0.3            0.1  Guns in the United Kingdom[67]\n",
        "Slovenia              2.5            0.1            Guns in Slovenia[58]\n",
        "Norway                1.8            0.0              Guns in Norway[46]\n",
        "Romania               0.2            0.0             Guns in Romania[54]\n",
        "Poland                0.2            0.0              Guns in Poland[51]\n",
        "\n",
        "[31 rows x 3 columns]"
       ]
      }
     ],
     "prompt_number": 27
    },
    {
     "cell_type": "markdown",
     "metadata": {},
     "source": [
      "Let's just compare US, Canada, and UK:"
     ]
    },
    {
     "cell_type": "code",
     "collapsed": false,
     "input": [
      "select = data.ix[['United States', 'Canada', 'United Kingdom']]\n",
      "plot_percapita(select)"
     ],
     "language": "python",
     "metadata": {},
     "outputs": [
      {
       "metadata": {},
       "output_type": "display_data",
       "png": "[encoded data removed]",
       "text": [
        "<matplotlib.figure.Figure at 0x7fe1a8d6ca10>"
       ]
      }
     ],
     "prompt_number": 28
    },
    {
     "cell_type": "markdown",
     "metadata": {},
     "source": [
      "Normalize to the US numbers (inverse)"
     ]
    },
    {
     "cell_type": "code",
     "collapsed": false,
     "input": [
      "select['Homicides'] = select['Homicides']['United States'] / select['Homicides']\n",
      "select['Gun Homicides'] = select['Gun Homicides']['United States'] / select['Gun Homicides']\n",
      "display_relevant(select)"
     ],
     "language": "python",
     "metadata": {},
     "outputs": [
      {
       "html": [
        "<div style=\"max-height:1000px;max-width:1500px;overflow:auto;\">\n",
        "<table border=\"1\" class=\"dataframe\">\n",
        "  <thead>\n",
        "    <tr style=\"text-align: right;\">\n",
        "      <th></th>\n",
        "      <th>Homicides</th>\n",
        "      <th>Gun Homicides</th>\n",
        "      <th>Gun Data Source</th>\n",
        "    </tr>\n",
        "  </thead>\n",
        "  <tbody>\n",
        "    <tr>\n",
        "      <th>United States</th>\n",
        "      <td>  1.0</td>\n",
        "      <td>  1</td>\n",
        "      <td>      Guns in United States[68]</td>\n",
        "    </tr>\n",
        "    <tr>\n",
        "      <th>Canada</th>\n",
        "      <td>  4.8</td>\n",
        "      <td>  7</td>\n",
        "      <td>          Statistics Canada[10]</td>\n",
        "    </tr>\n",
        "    <tr>\n",
        "      <th>United Kingdom</th>\n",
        "      <td> 40.9</td>\n",
        "      <td> 71</td>\n",
        "      <td> Guns in the United Kingdom[67]</td>\n",
        "    </tr>\n",
        "  </tbody>\n",
        "</table>\n",
        "<p>3 rows \u00d7 3 columns</p>\n",
        "</div>"
       ],
       "metadata": {},
       "output_type": "display_data",
       "text": [
        "                Homicides  Gun Homicides                 Gun Data Source\n",
        "United States         1.0              1       Guns in United States[68]\n",
        "Canada                4.8              7           Statistics Canada[10]\n",
        "United Kingdom       40.9             71  Guns in the United Kingdom[67]\n",
        "\n",
        "[3 rows x 3 columns]"
       ]
      }
     ],
     "prompt_number": 29
    },
    {
     "cell_type": "markdown",
     "metadata": {},
     "source": [
      "So, you are 2.6 times more likely to be killed in the US than Canada,\n",
      "and 3.5 times more likely than in the UK.\n",
      "That's bad, but not extreme.\n",
      "\n",
      "However, you are 4.9 times more likely to be killed *with a gun* in the US than Canada,\n",
      "and almost 100 times more likely than in the UK.  That is pretty extreme.\n"
     ]
    },
    {
     "cell_type": "markdown",
     "metadata": {},
     "source": [
      "Countries represented:"
     ]
    },
    {
     "cell_type": "code",
     "collapsed": false,
     "input": [
      "for country in data.index:\n",
      "    print country"
     ],
     "language": "python",
     "metadata": {},
     "outputs": [
      {
       "output_type": "stream",
       "stream": "stdout",
       "text": [
        "Venezuela\n",
        "Colombia\n",
        "Brazil\n",
        "South Africa\n",
        "Panama\n",
        "Mexico\n",
        "Paraguay\n",
        "Nicaragua\n",
        "Costa Rica\n",
        "United States\n",
        "Uruguay\n",
        "Peru\n",
        "Chile\n",
        "Croatia\n",
        "Macedonia\n",
        "Israel\n",
        "Serbia\n",
        "Luxembourg\n",
        "Georgia\n",
        "Greece\n",
        "Kyrgyzstan\n",
        "Canada\n",
        "Portugal\n",
        "Moldova\n",
        "Kuwait\n",
        "Italy\n",
        "Estonia\n",
        "Belgium\n",
        "Finland\n",
        "New Zealand\n",
        "Cyprus\n",
        "Bulgaria\n",
        "France\n",
        "Denmark\n",
        "Netherlands\n",
        "Germany\n",
        "Sweden\n",
        "Latvia\n",
        "Slovakia\n",
        "Austria\n",
        "Spain\n",
        "Hungary\n",
        "Czech Republic\n",
        "Australia\n",
        "United Kingdom\n",
        "Slovenia\n",
        "Norway\n",
        "Romania\n",
        "Poland\n",
        "Singapore\n",
        "Japan\n"
       ]
      }
     ],
     "prompt_number": 30
    },
    {
     "cell_type": "code",
     "collapsed": false,
     "input": [],
     "language": "python",
     "metadata": {},
     "outputs": [],
     "prompt_number": 30
    },
    {
     "cell_type": "code",
     "collapsed": false,
     "input": [],
     "language": "python",
     "metadata": {},
     "outputs": [],
     "prompt_number": 30
    },
    {
     "cell_type": "code",
     "collapsed": false,
     "input": [],
     "language": "python",
     "metadata": {},
     "outputs": []
    }
   ],
   "metadata": {}
  }
 ]
}